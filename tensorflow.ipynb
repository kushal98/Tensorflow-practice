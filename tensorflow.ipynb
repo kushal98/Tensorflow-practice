{
 "cells": [
  {
   "cell_type": "markdown",
   "metadata": {},
   "source": [
    "<h2> ** TensorFlow **</h2>"
   ]
  },
  {
   "cell_type": "markdown",
   "metadata": {},
   "source": [
    "<h4> Hello world! in tensorflow </h4>"
   ]
  },
  {
   "cell_type": "code",
   "execution_count": 44,
   "metadata": {
    "collapsed": true
   },
   "outputs": [],
   "source": [
    "import tensorflow as tf\n",
    "import numpy as np"
   ]
  },
  {
   "cell_type": "code",
   "execution_count": 45,
   "metadata": {
    "collapsed": true
   },
   "outputs": [],
   "source": [
    "a= tf.constant(\"Hello\")\n",
    "b= tf.constant(\"World\")"
   ]
  },
  {
   "cell_type": "code",
   "execution_count": 46,
   "metadata": {
    "collapsed": true
   },
   "outputs": [],
   "source": [
    "c= tf.add(a,b)\n"
   ]
  },
  {
   "cell_type": "code",
   "execution_count": 47,
   "metadata": {
    "collapsed": true
   },
   "outputs": [],
   "source": [
    "session = tf.Session()"
   ]
  },
  {
   "cell_type": "code",
   "execution_count": 48,
   "metadata": {},
   "outputs": [
    {
     "name": "stdout",
     "output_type": "stream",
     "text": [
      "b'HelloWorld'\n"
     ]
    }
   ],
   "source": [
    "result = session.run(c)\n",
    "print(result)\n"
   ]
  },
  {
   "cell_type": "code",
   "execution_count": 49,
   "metadata": {
    "collapsed": true
   },
   "outputs": [],
   "source": [
    "session.close()"
   ]
  },
  {
   "cell_type": "markdown",
   "metadata": {},
   "source": [
    "<h4> Matrix Multiplication in TensorFlow </h4>"
   ]
  },
  {
   "cell_type": "code",
   "execution_count": 50,
   "metadata": {},
   "outputs": [
    {
     "name": "stdout",
     "output_type": "stream",
     "text": [
      "[[ 2  4  6]\n",
      " [ 8 10 12]]\n",
      "[[ 2  4  6]\n",
      " [ 8 10 12]]\n",
      "[[22 28]\n",
      " [49 64]]\n"
     ]
    }
   ],
   "source": [
    "matrix_one = tf.constant([[1,2,3],[4,5,6]])\n",
    "matrix_two = tf.constant([[1,2,3],[4,5,6]])\n",
    "matrix_3 = tf.constant([[1,2],[3,4],[5,6]])\n",
    "first_op = tf.add(matrix_one,matrix_two)\n",
    "second_op = matrix_one + matrix_two\n",
    "\n",
    "mul_op = tf.matmul(matrix_one,matrix_3)\n",
    "\n",
    "with tf.Session() as session:\n",
    "    result=session.run(first_op)\n",
    "    print(result)\n",
    "    result=session.run(second_op)\n",
    "    print(result)\n",
    "    result = session.run(mul_op)\n",
    "    print(result)"
   ]
  },
  {
   "cell_type": "markdown",
   "metadata": {
    "collapsed": true
   },
   "source": [
    "<h4>Typical flow of a tensorflow project :</h4>\n",
    "\n",
    "1- creating a graph - tf.constant , tf.variable, tf.placeholder , tf.nn.sigmoid \n",
    "\n",
    "2- executing the graph (within a session)\n",
    "\n",
    "3- for visualisation - Tensorboard"
   ]
  },
  {
   "cell_type": "markdown",
   "metadata": {},
   "source": [
    "<h4> PlaceHolder In tensorflow </h4>\n",
    "1- allows reusability\n",
    "\n",
    "2-different data can be used every time when we run the graph(feed_dict)"
   ]
  },
  {
   "cell_type": "code",
   "execution_count": 51,
   "metadata": {},
   "outputs": [],
   "source": [
    "x = tf.placeholder(tf.float32,name='X',shape=(4,4))\n",
    "w = tf.placeholder(tf.float32, name='W',shape=(4,1))\n",
    "b = tf.fill((4,1), 1.0 , name='bias')\n",
    "            \n",
    "y = tf.add(tf.matmul(x,w),b)\n",
    "\n",
    "m = tf.reduce_max(y)"
   ]
  },
  {
   "cell_type": "code",
   "execution_count": 52,
   "metadata": {
    "collapsed": true
   },
   "outputs": [],
   "source": [
    "x_data= np.random.randn(4,4)\n",
    "w_data = np.random.randn(4,1)\n"
   ]
  },
  {
   "cell_type": "code",
   "execution_count": 53,
   "metadata": {},
   "outputs": [
    {
     "name": "stdout",
     "output_type": "stream",
     "text": [
      "0.670581\n"
     ]
    }
   ],
   "source": [
    "with tf.Session() as sess:\n",
    "    \n",
    "    output = sess.run(m , feed_dict={x:x_data , y:w_data})\n",
    "    print(output)\n",
    "    \n",
    "    "
   ]
  },
  {
   "cell_type": "markdown",
   "metadata": {},
   "source": [
    "<h4> Implementing a simple neural network using tensorflow </h4>"
   ]
  },
  {
   "cell_type": "code",
   "execution_count": 54,
   "metadata": {},
   "outputs": [],
   "source": [
    "# X,W,b,Y\n",
    "\n",
    "x = tf.placeholder(tf.float32 , shape=(1,3))\n",
    "y_true = tf.placeholder(tf.float32 , shape=(1,1))\n",
    "w = tf.Variable([[0,0,0]], dtype= tf.float32, name='W')\n",
    "b = tf.Variable(0,dtype=tf.float32,name ='bias')\n",
    "\n",
    "#output\n",
    "\n",
    "y_pred = tf.matmul(w,tf.transpose(x)) + b"
   ]
  },
  {
   "cell_type": "code",
   "execution_count": 55,
   "metadata": {
    "collapsed": true
   },
   "outputs": [],
   "source": [
    "#MSE (mean squared error)\n",
    "\n",
    "loss = tf.reduce_mean(tf.square(y_pred-y_true))\n",
    "\n",
    "#Cross entropy\n",
    "\n",
    "loss = tf.nn.sigmoid_cross_entropy_with_logits(labels=y_true , logits=y_pred)\n",
    "loss = tf.reduce_mean(loss)"
   ]
  },
  {
   "cell_type": "code",
   "execution_count": 62,
   "metadata": {},
   "outputs": [],
   "source": [
    "\n",
    "import numpy as np\n",
    "\n",
    "x_data = np.random.randn(2000,3)\n",
    "w_real = [0.4, 0.6, 0.2]\n",
    "b_real = -0.3 \n",
    "noise = np.random.randn(1,2000)*0.1 \n",
    "y_data = np.matmul(w_real, x_data.T)+b_real+noise"
   ]
  },
  {
   "cell_type": "code",
   "execution_count": 63,
   "metadata": {},
   "outputs": [
    {
     "name": "stdout",
     "output_type": "stream",
     "text": [
      "0 [array([[ 0.37931877,  0.58414686,  0.1970274 ]], dtype=float32), array([-0.27091694], dtype=float32)]\n",
      "5 [array([[ 0.39990082,  0.59435117,  0.2001024 ]], dtype=float32), array([-0.29942051], dtype=float32)]\n"
     ]
    }
   ],
   "source": [
    "num_iterations = 10\n",
    "graph = tf.Graph()\n",
    "wb_append = []\n",
    "\n",
    "with graph.as_default():\n",
    "    x = tf.placeholder(tf.float32 , shape=[None,3])\n",
    "    y_true = tf.placeholder(tf.float32 ,shape=None)\n",
    "    \n",
    "    with tf.name_scope('main') as scope:\n",
    "        w = tf.Variable([[0,0,0]],dtype=tf.float32,name='W')\n",
    "        b = tf.Variable([0],dtype=tf.float32,name='bias')\n",
    "        y_pred = tf.matmul(w,tf.transpose(x))+b\n",
    "        \n",
    "    with tf.name_scope('loss') as scope:\n",
    "        loss = tf.reduce_mean(tf.square(y_pred - y_true))\n",
    "        \n",
    "    with tf.name_scope('training') as scope:\n",
    "        learning_rate = 0.5\n",
    "        optimizer = tf.train.GradientDescentOptimizer(learning_rate)\n",
    "        train = optimizer.minimize(loss)\n",
    "    \n",
    "    \n",
    "    initialize = tf.global_variables_initializer()\n",
    "    \n",
    "    with tf.Session() as session:\n",
    "        session.run(initialize)\n",
    "        for step in range(num_iterations):\n",
    "            session.run(train, feed_dict={x:x_data,y_true:y_data})\n",
    "            if(step % 5 ==0):\n",
    "                print(step,session.run([w,b]))\n",
    "                wb_append.append(session.run([w,b]))"
   ]
  },
  {
   "cell_type": "code",
   "execution_count": null,
   "metadata": {
    "collapsed": true
   },
   "outputs": [],
   "source": []
  }
 ],
 "metadata": {
  "kernelspec": {
   "display_name": "Python 3",
   "language": "python",
   "name": "python3"
  },
  "language_info": {
   "codemirror_mode": {
    "name": "ipython",
    "version": 3
   },
   "file_extension": ".py",
   "mimetype": "text/x-python",
   "name": "python",
   "nbconvert_exporter": "python",
   "pygments_lexer": "ipython3",
   "version": "3.6.3"
  }
 },
 "nbformat": 4,
 "nbformat_minor": 2
}
