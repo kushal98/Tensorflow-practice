{
 "cells": [
  {
   "cell_type": "markdown",
   "metadata": {},
   "source": [
    "<h2> ** TensorFlow **</h2>"
   ]
  },
  {
   "cell_type": "markdown",
   "metadata": {},
   "source": [
    "<h4> Hello world! in tensorflow </h4>"
   ]
  },
  {
   "cell_type": "code",
   "execution_count": 14,
   "metadata": {
    "collapsed": true
   },
   "outputs": [],
   "source": [
    "import tensorflow as tf\n",
    "import numpy as np"
   ]
  },
  {
   "cell_type": "code",
   "execution_count": 2,
   "metadata": {
    "collapsed": true
   },
   "outputs": [],
   "source": [
    "a= tf.constant(\"Hello\")\n",
    "b= tf.constant(\"World\")"
   ]
  },
  {
   "cell_type": "code",
   "execution_count": 3,
   "metadata": {
    "collapsed": true
   },
   "outputs": [],
   "source": [
    "c= tf.add(a,b)\n"
   ]
  },
  {
   "cell_type": "code",
   "execution_count": 4,
   "metadata": {
    "collapsed": true
   },
   "outputs": [],
   "source": [
    "session = tf.Session()"
   ]
  },
  {
   "cell_type": "code",
   "execution_count": 5,
   "metadata": {},
   "outputs": [
    {
     "name": "stdout",
     "output_type": "stream",
     "text": [
      "b'HelloWorld'\n"
     ]
    }
   ],
   "source": [
    "result = session.run(c)\n",
    "print(result)\n"
   ]
  },
  {
   "cell_type": "code",
   "execution_count": 6,
   "metadata": {
    "collapsed": true
   },
   "outputs": [],
   "source": [
    "session.close()"
   ]
  },
  {
   "cell_type": "markdown",
   "metadata": {},
   "source": [
    "<h4> Matrix Multiplication in TensorFlow </h4>"
   ]
  },
  {
   "cell_type": "code",
   "execution_count": 7,
   "metadata": {},
   "outputs": [
    {
     "name": "stdout",
     "output_type": "stream",
     "text": [
      "[[ 2  4  6]\n",
      " [ 8 10 12]]\n",
      "[[ 2  4  6]\n",
      " [ 8 10 12]]\n",
      "[[22 28]\n",
      " [49 64]]\n"
     ]
    }
   ],
   "source": [
    "matrix_one = tf.constant([[1,2,3],[4,5,6]])\n",
    "matrix_two = tf.constant([[1,2,3],[4,5,6]])\n",
    "matrix_3 = tf.constant([[1,2],[3,4],[5,6]])\n",
    "first_op = tf.add(matrix_one,matrix_two)\n",
    "second_op = matrix_one + matrix_two\n",
    "\n",
    "mul_op = tf.matmul(matrix_one,matrix_3)\n",
    "\n",
    "with tf.Session() as session:\n",
    "    result=session.run(first_op)\n",
    "    print(result)\n",
    "    result=session.run(second_op)\n",
    "    print(result)\n",
    "    result = session.run(mul_op)\n",
    "    print(result)"
   ]
  },
  {
   "cell_type": "markdown",
   "metadata": {
    "collapsed": true
   },
   "source": [
    "<h4>Typical flow of a tensorflow project :</h4>\n",
    "\n",
    "1- creating a graph - tf.constant , tf.variable, tf.placeholder , tf.nn.sigmoid \n",
    "\n",
    "2- executing the graph (within a session)\n",
    "\n",
    "3- for visualisation - Tensorboard"
   ]
  },
  {
   "cell_type": "markdown",
   "metadata": {},
   "source": [
    "<h4> PlaceHolder In tensorflow </h4>\n",
    "1- allows reusability\n",
    "\n",
    "2-different data can be used every time when we run the graph(feed_dict)"
   ]
  },
  {
   "cell_type": "code",
   "execution_count": 19,
   "metadata": {},
   "outputs": [],
   "source": [
    "x = tf.placeholder(tf.float32,name='X',shape=(4,4))\n",
    "w = tf.placeholder(tf.float32, name='W',shape=(4,1))\n",
    "b = tf.fill((4,1), 1.0 , name='bias')\n",
    "            \n",
    "y = tf.add(tf.matmul(x,w),b)\n",
    "\n",
    "m = tf.reduce_max(y)"
   ]
  },
  {
   "cell_type": "code",
   "execution_count": 20,
   "metadata": {
    "collapsed": true
   },
   "outputs": [],
   "source": [
    "x_data= np.random.randn(4,4)\n",
    "w_data = np.random.randn(4,1)\n"
   ]
  },
  {
   "cell_type": "code",
   "execution_count": 21,
   "metadata": {},
   "outputs": [
    {
     "name": "stdout",
     "output_type": "stream",
     "text": [
      "0.276654\n"
     ]
    }
   ],
   "source": [
    "with tf.Session() as sess:\n",
    "    \n",
    "    output = sess.run(m , feed_dict={x:x_data , y:w_data})\n",
    "    print(output)\n",
    "    \n",
    "    "
   ]
  },
  {
   "cell_type": "code",
   "execution_count": null,
   "metadata": {
    "collapsed": true
   },
   "outputs": [],
   "source": [
    "[[ 1.2855438 ]\n",
    " [ 1.4726907 ]\n",
    " [ 0.64973378]\n",
    " [-1.58538783]]"
   ]
  }
 ],
 "metadata": {
  "kernelspec": {
   "display_name": "Python 3",
   "language": "python",
   "name": "python3"
  },
  "language_info": {
   "codemirror_mode": {
    "name": "ipython",
    "version": 3
   },
   "file_extension": ".py",
   "mimetype": "text/x-python",
   "name": "python",
   "nbconvert_exporter": "python",
   "pygments_lexer": "ipython3",
   "version": "3.6.3"
  }
 },
 "nbformat": 4,
 "nbformat_minor": 2
}
